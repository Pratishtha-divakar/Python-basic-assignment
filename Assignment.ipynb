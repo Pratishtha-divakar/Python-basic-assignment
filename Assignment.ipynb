{
  "metadata": {
    "kernelspec": {
      "name": "python",
      "display_name": "Python (Pyodide)",
      "language": "python"
    },
    "language_info": {
      "codemirror_mode": {
        "name": "python",
        "version": 3
      },
      "file_extension": ".py",
      "mimetype": "text/x-python",
      "name": "python",
      "nbconvert_exporter": "python",
      "pygments_lexer": "ipython3",
      "version": "3.8"
    }
  },
  "nbformat_minor": 5,
  "nbformat": 4,
  "cells": [
    {
      "id": "a35eeb9f-df70-4ab1-a243-2d2025888eb0",
      "cell_type": "markdown",
    },
    {
      "id": "cef7247a-f5e9-4bc7-b057-e88542efd7e6",
      "cell_type": "code",
      "source": "#QUESTION 1------Explain the key features of python that make it a popular choice for programming.\n\n'''1)Easy to code and read.\n   2)Free and open source.\n   3)Standard library.\n   4)Portable.\n   5)Interpreted.\n   6)Support for GUI.\n   7)Dynamically typed.\n   8)Simplify complex software development.'''\n",
      "metadata": {
        "trusted": true
      },
      "outputs": [],
      "execution_count": null
    },
    {
      "id": "9c418903-1318-43b0-a653-52a5003f1590",
      "cell_type": "code",
      "source": "#QUESTION 2------Describe the role of predefined keywords in python and provide examples of how they are used in a program.\n\n'''Keywords : They are predefined words that holds a special meaning, for eg: help,print,type,break,if, else, false, true, and, between, in etc..'''\nhelp(\"keywords\")",
      "metadata": {
        "trusted": true
      },
      "outputs": [
        {
          "name": "stdout",
          "text": "\nHere is a list of the Python keywords.  Enter any keyword to get more help.\n\nFalse               class               from                or\nNone                continue            global              pass\nTrue                def                 if                  raise\nand                 del                 import              return\nas                  elif                in                  try\nassert              else                is                  while\nasync               except              lambda              with\nawait               finally             nonlocal            yield\nbreak               for                 not                 \n\n",
          "output_type": "stream"
        }
      ],
      "execution_count": 1
    },
    {
      "id": "ac4b3998-ba37-496d-8c33-8c61947bc43f",
      "cell_type": "code",
      "source": "print(\"Good morning\")",
      "metadata": {
        "trusted": true
      },
      "outputs": [
        {
          "name": "stdout",
          "text": "Good morning\n",
          "output_type": "stream"
        }
      ],
      "execution_count": 2
    },
    {
      "id": "a744370f-2590-467a-9041-0d4d52aba2e8",
      "cell_type": "code",
      "source": "x=25\ny=20\nz=x>y\nprint(z)",
      "metadata": {
        "trusted": true
      },
      "outputs": [
        {
          "name": "stdout",
          "text": "True\n",
          "output_type": "stream"
        }
      ],
      "execution_count": 3
    },
    {
      "id": "cd0d265c-b4fd-436d-a86c-581f15b9483c",
      "cell_type": "code",
      "source": "#QUESTION 3 ------Compare and contrast mutable and immutable objects in python with example.\n\n'''1)Mutable :objects/containers , whose value or state can be changed after they are created, are called muatble objects. They support item assignment, for eg : list.'''\nlst=[1,2,\"pwskills\",\"good\"]\nlst[2]=\"generative ai\"\nlst\n",
      "metadata": {
        "trusted": true
      },
      "outputs": [
        {
          "execution_count": 5,
          "output_type": "execute_result",
          "data": {
            "text/plain": "[1, 2, 'generative ai', 'good']"
          },
          "metadata": {}
        }
      ],
      "execution_count": 5
    },
    {
      "id": "c8f944f1-4f1f-4d64-a539-02f81dafe07d",
      "cell_type": "code",
      "source": "'''2)Immutable :objects/ containers, whose value or state can't be changed after they are created, are called immutable object. They doesn't support item assignment, for eg : string.'''\ns='pratishtha'\ntype(s)",
      "metadata": {
        "trusted": true
      },
      "outputs": [
        {
          "execution_count": 7,
          "output_type": "execute_result",
          "data": {
            "text/plain": "str"
          },
          "metadata": {}
        }
      ],
      "execution_count": 7
    },
    {
      "id": "0b305a3c-d76d-4f26-9fad-b4e7a78ee5b5",
      "cell_type": "code",
      "source": "s[0]",
      "metadata": {
        "trusted": true
      },
      "outputs": [
        {
          "execution_count": 8,
          "output_type": "execute_result",
          "data": {
            "text/plain": "'p'"
          },
          "metadata": {}
        }
      ],
      "execution_count": 8
    },
    {
      "id": "e73307c8-005f-4573-b778-558491550e42",
      "cell_type": "code",
      "source": "s[0]=\"b\"",
      "metadata": {
        "trusted": true
      },
      "outputs": [
        {
          "ename": "<class 'TypeError'>",
          "evalue": "'str' object does not support item assignment",
          "traceback": [
            "\u001b[0;31m---------------------------------------------------------------------------\u001b[0m",
            "\u001b[0;31mTypeError\u001b[0m                                 Traceback (most recent call last)",
            "Cell \u001b[0;32mIn[9], line 1\u001b[0m\n\u001b[0;32m----> 1\u001b[0m \u001b[43ms\u001b[49m\u001b[43m[\u001b[49m\u001b[38;5;241;43m0\u001b[39;49m\u001b[43m]\u001b[49m\u001b[38;5;241m=\u001b[39m\u001b[38;5;124m\"\u001b[39m\u001b[38;5;124mb\u001b[39m\u001b[38;5;124m\"\u001b[39m\n",
            "\u001b[0;31mTypeError\u001b[0m: 'str' object does not support item assignment"
          ],
          "output_type": "error"
        }
      ],
      "execution_count": 9
    },
    {
      "id": "c5ac50d1-5916-4e65-ab1e-b496b9b1a49c",
      "cell_type": "code",
      "source": "#QUESTION 4 ------ Discuss the different type of operators in python and provide examples of how they are used.\n\n'''Diff. type of operators in python are : Arithmetic, Comparison, Logical , Assignment, Membership,Identity,Bitwise, Shift.'''\n#1)Arithmetic : +,-,*,/,**.\ns=2+3\nprint(s)",
      "metadata": {
        "trusted": true
      },
      "outputs": [
        {
          "name": "stdout",
          "text": "5\n",
          "output_type": "stream"
        }
      ],
      "execution_count": 10
    },
    {
      "id": "4f0141bb-5185-4597-8cd3-0610126e0710",
      "cell_type": "code",
      "source": "#2)Comparison : compares 2 values and return true or false.\n2==2",
      "metadata": {
        "trusted": true
      },
      "outputs": [
        {
          "execution_count": 11,
          "output_type": "execute_result",
          "data": {
            "text/plain": "True"
          },
          "metadata": {}
        }
      ],
      "execution_count": 11
    },
    {
      "id": "3ded4071-5520-4a57-aa54-017f97c762ff",
      "cell_type": "code",
      "source": "2!=2",
      "metadata": {
        "trusted": true
      },
      "outputs": [
        {
          "execution_count": 12,
          "output_type": "execute_result",
          "data": {
            "text/plain": "False"
          },
          "metadata": {}
        }
      ],
      "execution_count": 12
    },
    {
      "id": "59ff6082-49d8-4847-8acc-7dd0bacdce17",
      "cell_type": "code",
      "source": "#3)Logical : and, or.\nx=6\nx>5 and x<10",
      "metadata": {
        "trusted": true
      },
      "outputs": [
        {
          "execution_count": 13,
          "output_type": "execute_result",
          "data": {
            "text/plain": "True"
          },
          "metadata": {}
        }
      ],
      "execution_count": 13
    },
    {
      "id": "1256dc36-c003-4b32-8589-76d9808850cd",
      "cell_type": "code",
      "source": "#4)Assignment : assign values to a variable.\na=10\na",
      "metadata": {
        "trusted": true
      },
      "outputs": [
        {
          "execution_count": 14,
          "output_type": "execute_result",
          "data": {
            "text/plain": "10"
          },
          "metadata": {}
        }
      ],
      "execution_count": 14
    },
    {
      "id": "e768484b-8985-4e08-b167-0da07abb6a24",
      "cell_type": "code",
      "source": "a+=5\na",
      "metadata": {
        "trusted": true
      },
      "outputs": [
        {
          "execution_count": 15,
          "output_type": "execute_result",
          "data": {
            "text/plain": "15"
          },
          "metadata": {}
        }
      ],
      "execution_count": 15
    },
    {
      "id": "04d6d28b-466d-43ff-adb5-ecc100828c4d",
      "cell_type": "code",
      "source": "#5)Membership :If some member is in data container, this operator returns true, otherwise false.\na=\"pwskills\"\n\"p\" in a",
      "metadata": {
        "trusted": true
      },
      "outputs": [
        {
          "execution_count": 16,
          "output_type": "execute_result",
          "data": {
            "text/plain": "True"
          },
          "metadata": {}
        }
      ],
      "execution_count": 16
    },
    {
      "id": "e5516b4f-f351-4e28-aa7c-fef023bf94f8",
      "cell_type": "code",
      "source": "\"p\" not in a",
      "metadata": {
        "trusted": true
      },
      "outputs": [
        {
          "execution_count": 17,
          "output_type": "execute_result",
          "data": {
            "text/plain": "False"
          },
          "metadata": {}
        }
      ],
      "execution_count": 17
    },
    {
      "id": "9c8dc499-2bba-41cd-80de-c20521f7ff1e",
      "cell_type": "code",
      "source": "#6)Identity : it compares the location of 2 objects or variables.\na=2\nb=3\na is b",
      "metadata": {
        "trusted": true
      },
      "outputs": [
        {
          "execution_count": 18,
          "output_type": "execute_result",
          "data": {
            "text/plain": "False"
          },
          "metadata": {}
        }
      ],
      "execution_count": 18
    },
    {
      "id": "40a8d2ea-97d0-4676-b7fa-2b35240e12c2",
      "cell_type": "code",
      "source": "#7)Bitwise : operations on bit level , manipulating individual bits within integer.\nbin(10)\n",
      "metadata": {
        "trusted": true
      },
      "outputs": [
        {
          "execution_count": 19,
          "output_type": "execute_result",
          "data": {
            "text/plain": "'0b1010'"
          },
          "metadata": {}
        }
      ],
      "execution_count": 19
    },
    {
      "id": "e9267d3c-d5a6-42f0-845b-c37de8402a4f",
      "cell_type": "code",
      "source": "~3  #negation ",
      "metadata": {
        "trusted": true
      },
      "outputs": [
        {
          "execution_count": 20,
          "output_type": "execute_result",
          "data": {
            "text/plain": "-4"
          },
          "metadata": {}
        }
      ],
      "execution_count": 20
    },
    {
      "id": "8aa1c3c5-5d3f-4dd7-946c-3258a832b0d7",
      "cell_type": "code",
      "source": "5^3 #XOR",
      "metadata": {
        "trusted": true
      },
      "outputs": [
        {
          "execution_count": 21,
          "output_type": "execute_result",
          "data": {
            "text/plain": "6"
          },
          "metadata": {}
        }
      ],
      "execution_count": 21
    },
    {
      "id": "d411fc7c-e8f2-45a8-8d01-210cb4d73990",
      "cell_type": "code",
      "source": "#8) Shift :it shifts the bits to the left or right by the no..of position denoted by<<,>>.\n5<<1",
      "metadata": {
        "trusted": true
      },
      "outputs": [
        {
          "execution_count": 22,
          "output_type": "execute_result",
          "data": {
            "text/plain": "10"
          },
          "metadata": {}
        }
      ],
      "execution_count": 22
    },
    {
      "id": "a9c6008d-a3f6-46e6-9559-2caec52e9320",
      "cell_type": "code",
      "source": "5>>1",
      "metadata": {
        "trusted": true
      },
      "outputs": [
        {
          "execution_count": 23,
          "output_type": "execute_result",
          "data": {
            "text/plain": "2"
          },
          "metadata": {}
        }
      ],
      "execution_count": 23
    },
    {
      "id": "4bd03fec-9097-4acd-bcc5-ce0e72b50049",
      "cell_type": "code",
      "source": "#QUESTION 5------ Explain the concept of type casting in python with example.\n\n#Type casting : we can change the format of variable by using type casting.\nname =\"pratishtha\"\ntype(name)",
      "metadata": {
        "trusted": true
      },
      "outputs": [
        {
          "execution_count": 24,
          "output_type": "execute_result",
          "data": {
            "text/plain": "str"
          },
          "metadata": {}
        }
      ],
      "execution_count": 24
    },
    {
      "id": "b7ec72b4-4f99-4303-b4d6-b7efd834cca9",
      "cell_type": "code",
      "source": "a=5           # type casting\ntype(a)",
      "metadata": {
        "trusted": true
      },
      "outputs": [
        {
          "execution_count": 26,
          "output_type": "execute_result",
          "data": {
            "text/plain": "int"
          },
          "metadata": {}
        }
      ],
      "execution_count": 26
    },
    {
      "id": "9f2625a4-ae50-43ef-a584-24c44e8ba0ca",
      "cell_type": "code",
      "source": "float(a)    # int converted to float",
      "metadata": {
        "trusted": true
      },
      "outputs": [
        {
          "execution_count": 28,
          "output_type": "execute_result",
          "data": {
            "text/plain": "5.0"
          },
          "metadata": {}
        }
      ],
      "execution_count": 28
    },
    {
      "id": "50b1bcdc-b750-4fa7-83ee-41f95c566870",
      "cell_type": "code",
      "source": "#QUESTION 6 ------ How do conditional statements work in python?Illustrate with examples.\n\n#Conditional statements : If the given condition is true, the code block indented below the if statement will be executed.If the condition is false, the code block will be skipped.\nnum=5\nif num>0:\n  print(\"The no.. is positive\")",
      "metadata": {
        "trusted": true
      },
      "outputs": [
        {
          "name": "stdout",
          "text": "The no.. is positive\n",
          "output_type": "stream"
        }
      ],
      "execution_count": 30
    },
    {
      "id": "03ec05d1-bf5d-4007-ada0-5a68338cfac4",
      "cell_type": "code",
      "source": "#QUESTION 7 ------Describe the diff.. types of loops in python and their use cases with examples.\n\n'''There are 3 types of loops : While loop, For loop, Nested loop.\n1)WHILE LOOP :It is used to execute a block of statements repeatedly until a given condition is satisfied, when the condition becomes false, the line immediately after the loop in the program is executed.'''\ncount=0\nwhile(count<3):\n    count=count+1\n    print(\"pwskills\")\nelse:\n    print(\"generative AI\")",
      "metadata": {
        "trusted": true
      },
      "outputs": [
        {
          "name": "stdout",
          "text": "pwskills\npwskills\npwskills\ngenerative AI\n",
          "output_type": "stream"
        }
      ],
      "execution_count": 31
    },
    {
      "id": "732be7bc-f1fd-4ffe-8176-e24b41fecd8a",
      "cell_type": "code",
      "source": "#2)FOR LOOP : They are used for sequential traversal, it can be used to itterate over a range and itteraters.\nn=4\nfor i in range(0,n):\n    print(i)",
      "metadata": {
        "trusted": true
      },
      "outputs": [
        {
          "name": "stdout",
          "text": "0\n1\n2\n3\n",
          "output_type": "stream"
        }
      ],
      "execution_count": 32
    },
    {
      "id": "f9008c23-6526-4f7c-af89-53feea9d0f37",
      "cell_type": "code",
      "source": "#3)NESTED LOOP : Use of one loop inside another is known as nested loop.\nfor i in range(1,5):\n    for j in range (i):\n        print(i, end=\" \")\n    print()",
      "metadata": {
        "trusted": true
      },
      "outputs": [
        {
          "name": "stdout",
          "text": "1 \n2 2 \n3 3 3 \n4 4 4 4 \n",
          "output_type": "stream"
        }
      ],
      "execution_count": 33
    },
    {
      "id": "b9670d85-ef29-4dfd-b4b5-e76d279c1f1a",
      "cell_type": "markdown",
      "source": "## Next steps 🏃\n\nThis is just a short introduction to JupyterLab and Jupyter Notebooks. See below for some more ways to interact with tools in the Jupyter ecosystem, and its community.\n\n### Other notebooks in this demo\n\nHere are some other notebooks in this demo. Each of the items below corresponds to a file or folder in the **file browser to the left**.\n\n- [**`Lorenz.ipynb`**](Lorenz.ipynb) uses Python to demonstrate interactive visualizations and computations around the [Lorenz system](https://en.wikipedia.org/wiki/Lorenz_system). It shows off basic Python functionality, including more visualizations, data structures, and scientific computing libraries.\n- [**`sqlite.ipynb`**](sqlite.ipynb) demonstrates how an in-browser sqlite kernel to run your own SQL commands from the notebook. It uses the [jupyterlite/xeus-sqlite-kernel](https://github.com/jupyterlite/xeus-sqlite-kernel).\n\n### Other sources of information in Jupyter\n\n- **More on using JupyterLab**: See [the JupyterLab documentation](https://jupyterlab.readthedocs.io/en/stable/) for more thorough information about how to install and use JupyterLab.\n- **More interactive demos**: See [try.jupyter.org](https://try.jupyter.org) for more interactive demos with the Jupyter ecosystem.\n- **Learn more about Jupyter**: See [the Jupyter community documentation](https://docs.jupyter.org) to learn more about the project, its community and tools, and how to get involved.\n- **Join our discussions**: The [Jupyter Community Forum](https://discourse.jupyter.org) is a place where many in the Jupyter community ask questions, help one another, and discuss issues around interactive computing and our ecosystem.",
      "metadata": {}
    }
  ]
}
